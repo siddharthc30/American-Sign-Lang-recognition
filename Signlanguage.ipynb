{
 "cells": [
  {
   "cell_type": "code",
   "execution_count": 1,
   "metadata": {
    "colab": {
     "base_uri": "https://localhost:8080/",
     "height": 34
    },
    "colab_type": "code",
    "id": "8oUCMMWtT9xa",
    "outputId": "f2f601aa-296b-4879-bb4f-0f3d1a839e39"
   },
   "outputs": [
    {
     "name": "stderr",
     "output_type": "stream",
     "text": [
      "Using TensorFlow backend.\n"
     ]
    }
   ],
   "source": [
    "import keras\n",
    "from keras.models import Sequential\n",
    "from keras.layers.core import Dense, Dropout, Activation, Flatten\n",
    "from keras.layers.convolutional import Convolution2D,MaxPooling2D\n",
    "from keras import backend as k\n",
    "from sklearn.model_selection import train_test_split\n",
    "import pandas as pd\n",
    "import numpy as np\n",
    "import matplotlib.pyplot as plt\n",
    "from keras.preprocessing.image import ImageDataGenerator\n",
    "from keras.optimizers import RMSprop\n",
    "\n"
   ]
  },
  {
   "cell_type": "code",
   "execution_count": 3,
   "metadata": {
    "colab": {},
    "colab_type": "code",
    "id": "5GYWZOJsU8vA"
   },
   "outputs": [],
   "source": [
    "import pandas as pd\n",
    "import io\n",
    "data = pd.read_csv('/home/siddharth/Documents/ML data/sign_mnist_train/sign_mnist_train.csv')"
   ]
  },
  {
   "cell_type": "code",
   "execution_count": 4,
   "metadata": {
    "colab": {
     "base_uri": "https://localhost:8080/",
     "height": 34
    },
    "colab_type": "code",
    "id": "-s4q8y_IT9xi",
    "outputId": "82ef6073-e024-4efd-d2b8-a3e51f6b46eb"
   },
   "outputs": [
    {
     "data": {
      "text/plain": [
       "(27455, 785)"
      ]
     },
     "execution_count": 4,
     "metadata": {},
     "output_type": "execute_result"
    }
   ],
   "source": [
    "data.shape"
   ]
  },
  {
   "cell_type": "code",
   "execution_count": 5,
   "metadata": {
    "colab": {
     "base_uri": "https://localhost:8080/",
     "height": 253
    },
    "colab_type": "code",
    "id": "qenHvfb7T9xn",
    "outputId": "cb4a1da5-6ae6-447d-ec3d-54a919558225"
   },
   "outputs": [
    {
     "data": {
      "text/html": [
       "<div>\n",
       "<style scoped>\n",
       "    .dataframe tbody tr th:only-of-type {\n",
       "        vertical-align: middle;\n",
       "    }\n",
       "\n",
       "    .dataframe tbody tr th {\n",
       "        vertical-align: top;\n",
       "    }\n",
       "\n",
       "    .dataframe thead th {\n",
       "        text-align: right;\n",
       "    }\n",
       "</style>\n",
       "<table border=\"1\" class=\"dataframe\">\n",
       "  <thead>\n",
       "    <tr style=\"text-align: right;\">\n",
       "      <th></th>\n",
       "      <th>label</th>\n",
       "      <th>pixel1</th>\n",
       "      <th>pixel2</th>\n",
       "      <th>pixel3</th>\n",
       "      <th>pixel4</th>\n",
       "      <th>pixel5</th>\n",
       "      <th>pixel6</th>\n",
       "      <th>pixel7</th>\n",
       "      <th>pixel8</th>\n",
       "      <th>pixel9</th>\n",
       "      <th>...</th>\n",
       "      <th>pixel775</th>\n",
       "      <th>pixel776</th>\n",
       "      <th>pixel777</th>\n",
       "      <th>pixel778</th>\n",
       "      <th>pixel779</th>\n",
       "      <th>pixel780</th>\n",
       "      <th>pixel781</th>\n",
       "      <th>pixel782</th>\n",
       "      <th>pixel783</th>\n",
       "      <th>pixel784</th>\n",
       "    </tr>\n",
       "  </thead>\n",
       "  <tbody>\n",
       "    <tr>\n",
       "      <th>0</th>\n",
       "      <td>3</td>\n",
       "      <td>107</td>\n",
       "      <td>118</td>\n",
       "      <td>127</td>\n",
       "      <td>134</td>\n",
       "      <td>139</td>\n",
       "      <td>143</td>\n",
       "      <td>146</td>\n",
       "      <td>150</td>\n",
       "      <td>153</td>\n",
       "      <td>...</td>\n",
       "      <td>207</td>\n",
       "      <td>207</td>\n",
       "      <td>207</td>\n",
       "      <td>207</td>\n",
       "      <td>206</td>\n",
       "      <td>206</td>\n",
       "      <td>206</td>\n",
       "      <td>204</td>\n",
       "      <td>203</td>\n",
       "      <td>202</td>\n",
       "    </tr>\n",
       "    <tr>\n",
       "      <th>1</th>\n",
       "      <td>6</td>\n",
       "      <td>155</td>\n",
       "      <td>157</td>\n",
       "      <td>156</td>\n",
       "      <td>156</td>\n",
       "      <td>156</td>\n",
       "      <td>157</td>\n",
       "      <td>156</td>\n",
       "      <td>158</td>\n",
       "      <td>158</td>\n",
       "      <td>...</td>\n",
       "      <td>69</td>\n",
       "      <td>149</td>\n",
       "      <td>128</td>\n",
       "      <td>87</td>\n",
       "      <td>94</td>\n",
       "      <td>163</td>\n",
       "      <td>175</td>\n",
       "      <td>103</td>\n",
       "      <td>135</td>\n",
       "      <td>149</td>\n",
       "    </tr>\n",
       "    <tr>\n",
       "      <th>2</th>\n",
       "      <td>2</td>\n",
       "      <td>187</td>\n",
       "      <td>188</td>\n",
       "      <td>188</td>\n",
       "      <td>187</td>\n",
       "      <td>187</td>\n",
       "      <td>186</td>\n",
       "      <td>187</td>\n",
       "      <td>188</td>\n",
       "      <td>187</td>\n",
       "      <td>...</td>\n",
       "      <td>202</td>\n",
       "      <td>201</td>\n",
       "      <td>200</td>\n",
       "      <td>199</td>\n",
       "      <td>198</td>\n",
       "      <td>199</td>\n",
       "      <td>198</td>\n",
       "      <td>195</td>\n",
       "      <td>194</td>\n",
       "      <td>195</td>\n",
       "    </tr>\n",
       "    <tr>\n",
       "      <th>3</th>\n",
       "      <td>2</td>\n",
       "      <td>211</td>\n",
       "      <td>211</td>\n",
       "      <td>212</td>\n",
       "      <td>212</td>\n",
       "      <td>211</td>\n",
       "      <td>210</td>\n",
       "      <td>211</td>\n",
       "      <td>210</td>\n",
       "      <td>210</td>\n",
       "      <td>...</td>\n",
       "      <td>235</td>\n",
       "      <td>234</td>\n",
       "      <td>233</td>\n",
       "      <td>231</td>\n",
       "      <td>230</td>\n",
       "      <td>226</td>\n",
       "      <td>225</td>\n",
       "      <td>222</td>\n",
       "      <td>229</td>\n",
       "      <td>163</td>\n",
       "    </tr>\n",
       "    <tr>\n",
       "      <th>4</th>\n",
       "      <td>13</td>\n",
       "      <td>164</td>\n",
       "      <td>167</td>\n",
       "      <td>170</td>\n",
       "      <td>172</td>\n",
       "      <td>176</td>\n",
       "      <td>179</td>\n",
       "      <td>180</td>\n",
       "      <td>184</td>\n",
       "      <td>185</td>\n",
       "      <td>...</td>\n",
       "      <td>92</td>\n",
       "      <td>105</td>\n",
       "      <td>105</td>\n",
       "      <td>108</td>\n",
       "      <td>133</td>\n",
       "      <td>163</td>\n",
       "      <td>157</td>\n",
       "      <td>163</td>\n",
       "      <td>164</td>\n",
       "      <td>179</td>\n",
       "    </tr>\n",
       "  </tbody>\n",
       "</table>\n",
       "<p>5 rows × 785 columns</p>\n",
       "</div>"
      ],
      "text/plain": [
       "   label  pixel1  pixel2  pixel3  pixel4  pixel5  pixel6  pixel7  pixel8  \\\n",
       "0      3     107     118     127     134     139     143     146     150   \n",
       "1      6     155     157     156     156     156     157     156     158   \n",
       "2      2     187     188     188     187     187     186     187     188   \n",
       "3      2     211     211     212     212     211     210     211     210   \n",
       "4     13     164     167     170     172     176     179     180     184   \n",
       "\n",
       "   pixel9  ...  pixel775  pixel776  pixel777  pixel778  pixel779  pixel780  \\\n",
       "0     153  ...       207       207       207       207       206       206   \n",
       "1     158  ...        69       149       128        87        94       163   \n",
       "2     187  ...       202       201       200       199       198       199   \n",
       "3     210  ...       235       234       233       231       230       226   \n",
       "4     185  ...        92       105       105       108       133       163   \n",
       "\n",
       "   pixel781  pixel782  pixel783  pixel784  \n",
       "0       206       204       203       202  \n",
       "1       175       103       135       149  \n",
       "2       198       195       194       195  \n",
       "3       225       222       229       163  \n",
       "4       157       163       164       179  \n",
       "\n",
       "[5 rows x 785 columns]"
      ]
     },
     "execution_count": 5,
     "metadata": {},
     "output_type": "execute_result"
    }
   ],
   "source": [
    "data.head()"
   ]
  },
  {
   "cell_type": "code",
   "execution_count": 6,
   "metadata": {
    "colab": {},
    "colab_type": "code",
    "id": "aU3a6OhXDo08"
   },
   "outputs": [],
   "source": [
    "df=data.drop(labels=['label'],axis=1)"
   ]
  },
  {
   "cell_type": "code",
   "execution_count": 7,
   "metadata": {
    "colab": {
     "base_uri": "https://localhost:8080/",
     "height": 265
    },
    "colab_type": "code",
    "id": "KwdF8RlHC2ah",
    "outputId": "58a991e2-906a-4805-e273-4db7dc8f92d1"
   },
   "outputs": [
    {
     "data": {
      "image/png": "[encoded data removed]",
      "text/plain": [
       "<Figure size 432x288 with 1 Axes>"
      ]
     },
     "metadata": {
      "needs_background": "light"
     },
     "output_type": "display_data"
    }
   ],
   "source": [
    "def gen_image(image):\n",
    "    \"\"\"Return 28x28 image given grayscale values\"\"\"\n",
    "    pixels = image.reshape((28,28))\n",
    "    plt.imshow(pixels, cmap='gray')\n",
    "    plt.show()\n",
    "gen_image(np.array(df.iloc[5]))"
   ]
  },
  {
   "cell_type": "code",
   "execution_count": 8,
   "metadata": {
    "colab": {
     "base_uri": "https://localhost:8080/",
     "height": 1000
    },
    "colab_type": "code",
    "id": "-8LMEeeNT9xr",
    "outputId": "2d09023b-b5d7-4767-cd8a-5f493fcc5d8d"
   },
   "outputs": [
    {
     "data": {
      "text/plain": [
       "array([[211, 211, 212, 212, 211, 210, 211, 210, 210, 211, 209, 207, 208,\n",
       "        207, 206, 203, 202, 201, 200, 198, 197, 195, 192, 197, 171,  51,\n",
       "         52,  54],\n",
       "       [212, 213, 215, 215, 212, 212, 213, 212, 212, 211, 211, 209, 208,\n",
       "        209, 206, 204, 203, 202, 201, 200, 199, 197, 193, 204, 149,  44,\n",
       "         49,  46],\n",
       "       [215, 217, 218, 217, 216, 216, 217, 214, 213, 212, 212, 211, 210,\n",
       "        211, 208, 206, 206, 204, 204, 202, 202, 200, 194, 205, 120,  52,\n",
       "         41,  45],\n",
       "       [218, 218, 218, 218, 218, 218, 218, 216, 216, 215, 213, 212, 213,\n",
       "        211, 209, 208, 209, 208, 208, 208, 207, 202, 198, 201,  90,  46,\n",
       "         44,  34],\n",
       "       [219, 218, 220, 221, 220, 220, 218, 217, 219, 217, 215, 214, 214,\n",
       "        211, 201, 187, 186, 182, 179, 183, 192, 204, 204, 196,  63,  56,\n",
       "         49,  36],\n",
       "       [221, 221, 221, 222, 222, 222, 220, 220, 219, 218, 217, 214, 213,\n",
       "        212, 198, 193, 186, 178, 164, 150, 144, 153, 192, 203,  79,  51,\n",
       "         35,  33],\n",
       "       [224, 222, 223, 223, 223, 223, 220, 221, 220, 219, 218, 211, 208,\n",
       "        214, 197, 176, 200, 165, 145, 179, 155, 141, 136, 167,  93,  48,\n",
       "         33,  32],\n",
       "       [225, 225, 225, 224, 223, 223, 223, 222, 221, 223, 217, 210, 210,\n",
       "        214, 155,  82, 119, 104,  81, 148, 158, 146, 100,  89,  69,  41,\n",
       "         38,  29],\n",
       "       [225, 226, 226, 225, 226, 225, 224, 223, 223, 215, 216, 212, 175,\n",
       "        151, 110,  71,  63,  61,  61,  84, 110, 102,  80,  78,  74,  50,\n",
       "         48,  42],\n",
       "       [226, 226, 226, 226, 226, 226, 226, 224, 219, 217, 228, 197, 126,\n",
       "         81,  71,  70,  62,  51,  60,  59,  68,  75,  68,  69,  91, 141,\n",
       "        135,  60],\n",
       "       [227, 228, 228, 227, 227, 227, 228, 223, 222, 235, 223, 174, 127,\n",
       "         96,  60,  58,  65,  85, 137, 136, 185, 189, 154, 155, 161, 197,\n",
       "        182, 104],\n",
       "       [228, 229, 229, 230, 228, 229, 222, 224, 228, 219, 183, 138, 109,\n",
       "         93,  69,  62,  60, 171, 233, 222, 217, 216, 219, 213, 170, 175,\n",
       "        120, 121],\n",
       "       [230, 231, 231, 230, 232, 225, 223, 242, 225, 205, 167, 102,  82,\n",
       "         81,  73,  62, 143, 221, 215, 216, 215, 211, 211, 210, 185, 166,\n",
       "        108, 168],\n",
       "       [231, 232, 232, 234, 227, 225, 248, 241, 213, 201, 164, 108,  68,\n",
       "         73,  72, 177, 229, 219, 218, 219, 218, 216, 215, 214, 198, 181,\n",
       "        156, 152],\n",
       "       [233, 233, 235, 230, 226, 246, 243, 224, 208, 181, 132, 101,  82,\n",
       "         58, 131, 237, 219, 222, 222, 220, 217, 216, 216, 215, 208, 182,\n",
       "        184, 167],\n",
       "       [235, 236, 234, 226, 250, 250, 230, 218, 201, 162, 124,  93,  62,\n",
       "         82, 214, 228, 223, 224, 225, 223, 219, 217, 216, 215, 214, 196,\n",
       "        174, 181],\n",
       "       [235, 237, 233, 248, 255, 244, 222, 209, 182, 148, 116,  82,  50,\n",
       "        126, 246, 222, 226, 226, 226, 225, 219, 219, 222, 213, 213, 217,\n",
       "        180, 122],\n",
       "       [237, 234, 245, 255, 252, 232, 212, 198, 171, 129,  98,  66,  66,\n",
       "         68, 202, 234, 224, 226, 226, 223, 226, 216, 182, 162, 151, 187,\n",
       "        218,  84],\n",
       "       [233, 244, 255, 247, 238, 223, 202, 186, 155, 110,  84,  61,  73,\n",
       "         64,  85, 225, 227, 223, 228, 237, 206, 145, 144, 164, 111, 139,\n",
       "        227, 163],\n",
       "       [241, 255, 252, 237, 225, 209, 190, 173, 135, 102,  77,  76,  88,\n",
       "         92,  67, 152, 245, 231, 206, 170, 130, 138, 160, 121, 128, 210,\n",
       "        211, 215],\n",
       "       [228, 255, 249, 225, 216, 198, 185, 162, 123, 100,  82,  92, 100,\n",
       "         98,  94,  81, 147, 144, 106,  94, 104, 144, 114, 106, 220, 215,\n",
       "        213, 210],\n",
       "       [ 90, 146, 207, 193, 183, 193, 175, 148, 120,  94,  83,  99, 102,\n",
       "         99,  97,  89,  78,  87,  98, 122, 111, 117,  61, 177, 226, 215,\n",
       "        215, 211],\n",
       "       [ 74,  63,  80, 119, 134, 134, 136, 117,  90,  77,  82,  97,  97,\n",
       "         97,  93,  89,  86, 106, 109, 117, 102,  63,  91, 224, 218, 218,\n",
       "        215, 212],\n",
       "       [ 71,  72,  65,  65,  65,  71,  75,  57,  54,  66,  70,  83,  88,\n",
       "         88,  84,  89,  90,  95,  87,  77,  89, 144, 210, 224, 219, 219,\n",
       "        217, 214],\n",
       "       [ 67,  66,  63,  65,  58,  29,  34,  43,  46,  53,  52,  66,  79,\n",
       "         74,  67,  64,  57,  70, 115, 167, 216, 236, 228, 223, 221, 220,\n",
       "        219, 217],\n",
       "       [ 65,  62,  58,  55,  63,  44,  11,  22,  24,  28,  34,  49,  46,\n",
       "         62,  95, 109, 141, 202, 237, 240, 231, 226, 226, 224, 222, 220,\n",
       "        219, 217],\n",
       "       [ 63,  56,  52,  52,  59,  56,  17,  16,  20,  17,  17,  14, 120,\n",
       "        217, 237, 244, 247, 242, 233, 231, 230, 229, 227, 225, 223, 221,\n",
       "        220, 216],\n",
       "       [ 58,  51,  49,  50,  57,  60,  17,  15,  18,  17,  19,   1, 159,\n",
       "        255, 237, 239, 237, 236, 235, 234, 233, 231, 230, 226, 225, 222,\n",
       "        229, 163]], dtype=uint8)"
      ]
     },
     "execution_count": 8,
     "metadata": {},
     "output_type": "execute_result"
    }
   ],
   "source": [
    "data.iloc[3,1:].values.reshape(28,28).astype('uint8')"
   ]
  },
  {
   "cell_type": "code",
   "execution_count": 9,
   "metadata": {
    "colab": {},
    "colab_type": "code",
    "id": "CV9-kZvhT9x3"
   },
   "outputs": [],
   "source": [
    "df_x=data.iloc[:,1:].values.reshape(len(data),28,28,1)\n",
    "y=data.iloc[:,0].values"
   ]
  },
  {
   "cell_type": "code",
   "execution_count": 10,
   "metadata": {
    "colab": {},
    "colab_type": "code",
    "id": "jr2AHTV5T9x7"
   },
   "outputs": [],
   "source": [
    "df_y= keras.utils.to_categorical(y,num_classes=25)"
   ]
  },
  {
   "cell_type": "code",
   "execution_count": 11,
   "metadata": {
    "colab": {},
    "colab_type": "code",
    "id": "zaJqc0UfT9x-"
   },
   "outputs": [],
   "source": [
    "df_x=np.array(df_x)\n",
    "df_y=np.array(df_y)"
   ]
  },
  {
   "cell_type": "code",
   "execution_count": 12,
   "metadata": {
    "colab": {
     "base_uri": "https://localhost:8080/",
     "height": 34
    },
    "colab_type": "code",
    "id": "4B8FE0WuT9yB",
    "outputId": "9c1f7667-9767-4555-da40-718a264afc45"
   },
   "outputs": [
    {
     "data": {
      "text/plain": [
       "(27455, 28, 28, 1)"
      ]
     },
     "execution_count": 12,
     "metadata": {},
     "output_type": "execute_result"
    }
   ],
   "source": [
    "df_x.shape"
   ]
  },
  {
   "cell_type": "code",
   "execution_count": 13,
   "metadata": {
    "colab": {},
    "colab_type": "code",
    "id": "zSZli8kqT9yK"
   },
   "outputs": [],
   "source": [
    "datagen = ImageDataGenerator(\n",
    "        featurewise_center=False,  # set input mean to 0 over the dataset\n",
    "        samplewise_center=False,  # set each sample mean to 0\n",
    "        featurewise_std_normalization=False,  # divide inputs by std of the dataset\n",
    "        samplewise_std_normalization=False,  # divide each input by its std\n",
    "        zca_whitening=False,  # apply ZCA whitening\n",
    "        rotation_range=10,  # randomly rotate images in the range (degrees, 0 to 180)\n",
    "        zoom_range = 0.1, # Randomly zoom image \n",
    "        width_shift_range=0.1,  # randomly shift images horizontally (fraction of total width)\n",
    "        height_shift_range=0.1,  # randomly shift images vertically (fraction of total height)\n",
    "        horizontal_flip=False,  # randomly flip images\n",
    "        vertical_flip=False)  # randomly flip images\n",
    "\n",
    "\n",
    "datagen.fit(df_x)"
   ]
  },
  {
   "cell_type": "code",
   "execution_count": 14,
   "metadata": {
    "colab": {},
    "colab_type": "code",
    "id": "IZ6xVnuRT9yM"
   },
   "outputs": [],
   "source": [
    "df_x=df_x/255.0"
   ]
  },
  {
   "cell_type": "code",
   "execution_count": 15,
   "metadata": {
    "colab": {},
    "colab_type": "code",
    "id": "QltXhUSGT9yP"
   },
   "outputs": [],
   "source": [
    "Xtrain,Xtest,ytrain,ytest=train_test_split(df_x,df_y,test_size=0.4,random_state=np.random)"
   ]
  },
  {
   "cell_type": "code",
   "execution_count": 16,
   "metadata": {
    "colab": {},
    "colab_type": "code",
    "id": "AiM4kILCT9yR"
   },
   "outputs": [],
   "source": [
    "model = Sequential()\n",
    "\n",
    "model.add(Convolution2D(filters = 16, kernel_size = (5,5),padding = 'Same', activation ='relu', input_shape = (28,28,1)))\n",
    "model.add(Convolution2D(filters = 16, kernel_size = (5,5),padding = 'Same', activation ='relu'))\n",
    "model.add(MaxPooling2D(pool_size=(2,2)))\n",
    "model.add(Dropout(0.25))\n",
    "\n",
    "\n",
    "model.add(Convolution2D(filters = 32, kernel_size = (3,3),padding = 'Same', activation ='relu'))\n",
    "model.add(Convolution2D(filters = 32, kernel_size = (3,3),padding = 'Same', activation ='relu'))\n",
    "model.add(MaxPooling2D(pool_size=(2,2), strides=(2,2)))\n",
    "model.add(Dropout(0.25))\n",
    "\n",
    "\n",
    "model.add(Flatten())\n",
    "model.add(Dense(256, activation = \"relu\"))\n",
    "model.add(Dropout(0.5))\n",
    "model.add(Dense(25, activation = \"softmax\"))\n",
    "optimizer = RMSprop(lr=0.001, rho=0.9, epsilon=1e-08, decay=0.0)\n",
    "\n",
    "model.compile(optimizer = optimizer , loss = \"categorical_crossentropy\", metrics=[\"accuracy\"])"
   ]
  },
  {
   "cell_type": "code",
   "execution_count": 17,
   "metadata": {
    "colab": {
     "base_uri": "https://localhost:8080/",
     "height": 561
    },
    "colab_type": "code",
    "id": "ei3lvhOtT9yU",
    "outputId": "086d09bd-3796-41c8-d1a8-660ff2da8f94"
   },
   "outputs": [
    {
     "name": "stdout",
     "output_type": "stream",
     "text": [
      "Model: \"sequential_1\"\n",
      "_________________________________________________________________\n",
      "Layer (type)                 Output Shape              Param #   \n",
      "=================================================================\n",
      "conv2d_1 (Conv2D)            (None, 28, 28, 16)        416       \n",
      "_________________________________________________________________\n",
      "conv2d_2 (Conv2D)            (None, 28, 28, 16)        6416      \n",
      "_________________________________________________________________\n",
      "max_pooling2d_1 (MaxPooling2 (None, 14, 14, 16)        0         \n",
      "_________________________________________________________________\n",
      "dropout_1 (Dropout)          (None, 14, 14, 16)        0         \n",
      "_________________________________________________________________\n",
      "conv2d_3 (Conv2D)            (None, 14, 14, 32)        4640      \n",
      "_________________________________________________________________\n",
      "conv2d_4 (Conv2D)            (None, 14, 14, 32)        9248      \n",
      "_________________________________________________________________\n",
      "max_pooling2d_2 (MaxPooling2 (None, 7, 7, 32)          0         \n",
      "_________________________________________________________________\n",
      "dropout_2 (Dropout)          (None, 7, 7, 32)          0         \n",
      "_________________________________________________________________\n",
      "flatten_1 (Flatten)          (None, 1568)              0         \n",
      "_________________________________________________________________\n",
      "dense_1 (Dense)              (None, 256)               401664    \n",
      "_________________________________________________________________\n",
      "dropout_3 (Dropout)          (None, 256)               0         \n",
      "_________________________________________________________________\n",
      "dense_2 (Dense)              (None, 25)                6425      \n",
      "=================================================================\n",
      "Total params: 428,809\n",
      "Trainable params: 428,809\n",
      "Non-trainable params: 0\n",
      "_________________________________________________________________\n"
     ]
    }
   ],
   "source": [
    "model.summary()"
   ]
  },
  {
   "cell_type": "code",
   "execution_count": 18,
   "metadata": {
    "colab": {
     "base_uri": "https://localhost:8080/",
     "height": 1000
    },
    "colab_type": "code",
    "id": "uiEyPpzlT9yX",
    "outputId": "39e2db0d-dad6-455e-8ed5-3cdc8d070d9e"
   },
   "outputs": [
    {
     "name": "stdout",
     "output_type": "stream",
     "text": [
      "Train on 16473 samples, validate on 10982 samples\n",
      "Epoch 1/30\n",
      "16473/16473 [==============================] - 20s 1ms/step - loss: 2.0634 - accuracy: 0.3704 - val_loss: 0.6522 - val_accuracy: 0.8227\n",
      "Epoch 2/30\n",
      "16473/16473 [==============================] - 26s 2ms/step - loss: 0.6065 - accuracy: 0.7982 - val_loss: 0.1344 - val_accuracy: 0.9710\n",
      "Epoch 3/30\n",
      "16473/16473 [==============================] - 21s 1ms/step - loss: 0.2510 - accuracy: 0.9153 - val_loss: 0.0247 - val_accuracy: 0.9958\n",
      "Epoch 4/30\n",
      "16473/16473 [==============================] - 21s 1ms/step - loss: 0.1310 - accuracy: 0.9559 - val_loss: 0.0037 - val_accuracy: 1.0000\n",
      "Epoch 5/30\n",
      "16473/16473 [==============================] - 21s 1ms/step - loss: 0.0771 - accuracy: 0.9740 - val_loss: 0.0051 - val_accuracy: 0.9994\n",
      "Epoch 6/30\n",
      "16473/16473 [==============================] - 21s 1ms/step - loss: 0.0624 - accuracy: 0.9794 - val_loss: 6.0263e-04 - val_accuracy: 1.0000\n",
      "Epoch 7/30\n",
      "16473/16473 [==============================] - 21s 1ms/step - loss: 0.0480 - accuracy: 0.9836 - val_loss: 4.3576e-04 - val_accuracy: 1.0000\n",
      "Epoch 8/30\n",
      "16473/16473 [==============================] - 21s 1ms/step - loss: 0.0351 - accuracy: 0.9879 - val_loss: 1.4586e-04 - val_accuracy: 1.0000\n",
      "Epoch 9/30\n",
      "16473/16473 [==============================] - 22s 1ms/step - loss: 0.0308 - accuracy: 0.9903 - val_loss: 4.7085e-04 - val_accuracy: 1.0000\n",
      "Epoch 10/30\n",
      "16473/16473 [==============================] - 22s 1ms/step - loss: 0.0251 - accuracy: 0.9921 - val_loss: 6.9044e-05 - val_accuracy: 1.0000\n",
      "Epoch 11/30\n",
      "16473/16473 [==============================] - 22s 1ms/step - loss: 0.0243 - accuracy: 0.9922 - val_loss: 3.3133e-05 - val_accuracy: 1.0000\n",
      "Epoch 12/30\n",
      "16473/16473 [==============================] - 23s 1ms/step - loss: 0.0216 - accuracy: 0.9930 - val_loss: 3.8122e-05 - val_accuracy: 1.0000\n",
      "Epoch 13/30\n",
      "16473/16473 [==============================] - 23s 1ms/step - loss: 0.0167 - accuracy: 0.9943 - val_loss: 2.6965e-06 - val_accuracy: 1.0000\n",
      "Epoch 14/30\n",
      "16473/16473 [==============================] - 21s 1ms/step - loss: 0.0192 - accuracy: 0.9943 - val_loss: 1.1923e-05 - val_accuracy: 1.0000\n",
      "Epoch 15/30\n",
      "16473/16473 [==============================] - 21s 1ms/step - loss: 0.0159 - accuracy: 0.9948 - val_loss: 2.9679e-06 - val_accuracy: 1.0000\n",
      "Epoch 16/30\n",
      "16473/16473 [==============================] - 21s 1ms/step - loss: 0.0144 - accuracy: 0.9958 - val_loss: 6.1109e-06 - val_accuracy: 1.0000\n",
      "Epoch 17/30\n",
      "16473/16473 [==============================] - 21s 1ms/step - loss: 0.0127 - accuracy: 0.9959 - val_loss: 8.2366e-06 - val_accuracy: 1.0000\n",
      "Epoch 18/30\n",
      "16473/16473 [==============================] - 21s 1ms/step - loss: 0.0162 - accuracy: 0.9948 - val_loss: 1.2203e-04 - val_accuracy: 1.0000\n",
      "Epoch 19/30\n",
      "16473/16473 [==============================] - 20s 1ms/step - loss: 0.0130 - accuracy: 0.9957 - val_loss: 1.5052e-05 - val_accuracy: 1.0000\n",
      "Epoch 20/30\n",
      "16473/16473 [==============================] - 22s 1ms/step - loss: 0.0125 - accuracy: 0.9958 - val_loss: 1.9225e-06 - val_accuracy: 1.0000\n",
      "Epoch 21/30\n",
      "16473/16473 [==============================] - 22s 1ms/step - loss: 0.0119 - accuracy: 0.9964 - val_loss: 1.0326e-05 - val_accuracy: 1.0000\n",
      "Epoch 22/30\n",
      "16473/16473 [==============================] - 22s 1ms/step - loss: 0.0089 - accuracy: 0.9970 - val_loss: 5.6801e-07 - val_accuracy: 1.0000\n",
      "Epoch 23/30\n",
      "16473/16473 [==============================] - 34s 2ms/step - loss: 0.0103 - accuracy: 0.9970 - val_loss: 3.4901e-05 - val_accuracy: 1.0000\n",
      "Epoch 24/30\n",
      "16473/16473 [==============================] - 34s 2ms/step - loss: 0.0104 - accuracy: 0.9967 - val_loss: 2.2847e-07 - val_accuracy: 1.0000\n",
      "Epoch 25/30\n",
      "16473/16473 [==============================] - 33s 2ms/step - loss: 0.0096 - accuracy: 0.9976 - val_loss: 1.0026e-06 - val_accuracy: 1.0000\n",
      "Epoch 26/30\n",
      "16473/16473 [==============================] - 29s 2ms/step - loss: 0.0083 - accuracy: 0.9975 - val_loss: 5.3395e-08 - val_accuracy: 1.0000\n",
      "Epoch 27/30\n",
      "16473/16473 [==============================] - 27s 2ms/step - loss: 0.0090 - accuracy: 0.9968 - val_loss: 8.6279e-07 - val_accuracy: 1.0000\n",
      "Epoch 28/30\n",
      "16473/16473 [==============================] - 26s 2ms/step - loss: 0.0079 - accuracy: 0.9973 - val_loss: 8.2939e-08 - val_accuracy: 1.0000\n",
      "Epoch 29/30\n",
      "16473/16473 [==============================] - 27s 2ms/step - loss: 0.0101 - accuracy: 0.9970 - val_loss: 2.9928e-05 - val_accuracy: 1.0000\n",
      "Epoch 30/30\n",
      "16473/16473 [==============================] - 28s 2ms/step - loss: 0.0098 - accuracy: 0.9967 - val_loss: 1.2624e-06 - val_accuracy: 1.0000\n"
     ]
    }
   ],
   "source": [
    "history=model.fit(Xtrain,ytrain,validation_data=(Xtest,ytest), epochs=30, batch_size=128)"
   ]
  },
  {
   "cell_type": "code",
   "execution_count": 19,
   "metadata": {
    "colab": {
     "base_uri": "https://localhost:8080/",
     "height": 577
    },
    "colab_type": "code",
    "id": "Vkhc1WIkT9ya",
    "outputId": "f15ab95f-0afe-4114-ad9a-b8ea8db23d59"
   },
   "outputs": [
    {
     "data": {
      "image/png": "[encoded data removed]",
      "text/plain": [
       "<Figure size 432x288 with 2 Axes>"
      ]
     },
     "execution_count": 19,
     "metadata": {},
     "output_type": "execute_result"
    },
    {
     "data": {
      "image/png": "[encoded data removed]",
      "text/plain": [
       "<Figure size 432x288 with 2 Axes>"
      ]
     },
     "metadata": {
      "needs_background": "light"
     },
     "output_type": "display_data"
    }
   ],
   "source": [
    "fig = plt.figure()\n",
    "plt.subplot(2,1,1)\n",
    "plt.plot(history.history['accuracy'])\n",
    "plt.plot(history.history['val_accuracy'])\n",
    "plt.title('model accuracy')\n",
    "plt.ylabel('accuracy')\n",
    "plt.xlabel('epoch')\n",
    "plt.legend(['train', 'test'], loc='lower right')\n",
    "\n",
    "plt.subplot(2,1,2)\n",
    "plt.plot(history.history['loss'])\n",
    "plt.plot(history.history['val_loss'])\n",
    "plt.title('model loss')\n",
    "plt.ylabel('loss')\n",
    "plt.xlabel('epoch')\n",
    "plt.legend(['train', 'test'], loc='upper right')\n",
    "\n",
    "plt.tight_layout()\n",
    "\n",
    "fig"
   ]
  },
  {
   "cell_type": "code",
   "execution_count": 20,
   "metadata": {},
   "outputs": [],
   "source": [
    "model.save('signlanguage_model.h5')"
   ]
  },
  {
   "cell_type": "code",
   "execution_count": 20,
   "metadata": {
    "colab": {
     "base_uri": "https://localhost:8080/",
     "height": 74,
     "resources": {
      "http://localhost:8080/nbextensions/google.colab/files.js": {
       "data": "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",
       "headers": [
        [
         "content-type",
         "application/javascript"
        ]
       ],
       "ok": true,
       "status": 200,
       "status_text": ""
      }
     }
    },
    "colab_type": "code",
    "id": "_wK8byzhxE-E",
    "outputId": "7f709124-e1e9-497e-c750-e1be5734db7b"
   },
   "outputs": [
    {
     "data": {
      "text/html": [
       "\n",
       "     <input type=\"file\" id=\"files-7841a070-e04d-462b-8966-6be7ce18fc0d\" name=\"files[]\" multiple disabled />\n",
       "     <output id=\"result-7841a070-e04d-462b-8966-6be7ce18fc0d\">\n",
       "      Upload widget is only available when the cell has been executed in the\n",
       "      current browser session. Please rerun this cell to enable.\n",
       "      </output>\n",
       "      <script src=\"/nbextensions/google.colab/files.js\"></script> "
      ],
      "text/plain": [
       "<IPython.core.display.HTML object>"
      ]
     },
     "metadata": {
      "tags": []
     },
     "output_type": "display_data"
    },
    {
     "name": "stdout",
     "output_type": "stream",
     "text": [
      "Saving sign_mnist_test.csv to sign_mnist_test.csv\n"
     ]
    }
   ],
   "source": [
    "uploaded = files.upload()"
   ]
  },
  {
   "cell_type": "code",
   "execution_count": 0,
   "metadata": {
    "colab": {},
    "colab_type": "code",
    "id": "mRIKArZAxZNc"
   },
   "outputs": [],
   "source": [
    "\n",
    "test = pd.read_csv(io.StringIO(uploaded['sign_mnist_test.csv'].decode('utf-8')))"
   ]
  },
  {
   "cell_type": "code",
   "execution_count": 0,
   "metadata": {
    "colab": {},
    "colab_type": "code",
    "id": "Hg9YTUV0zk1k"
   },
   "outputs": [],
   "source": [
    "Xtest=test.drop(labels=['label'], axis=1)\n",
    "Y=test['label']"
   ]
  },
  {
   "cell_type": "code",
   "execution_count": 0,
   "metadata": {
    "colab": {},
    "colab_type": "code",
    "id": "Gk1JqFwU56dA"
   },
   "outputs": [],
   "source": [
    "Ytest= keras.utils.to_categorical(Y,num_classes=25)\n",
    "Ytest=np.array(Ytest)\n",
    "\n"
   ]
  },
  {
   "cell_type": "code",
   "execution_count": 27,
   "metadata": {
    "colab": {
     "base_uri": "https://localhost:8080/",
     "height": 1000
    },
    "colab_type": "code",
    "id": "2Eue4yEKCJIU",
    "outputId": "8bc2f3dd-b1ca-4cce-8e58-568555827f64"
   },
   "outputs": [
    {
     "data": {
      "text/plain": [
       "array([[203, 205, 207, 206, 207, 209, 210, 209, 210, 209, 208, 207, 207,\n",
       "        209, 208, 210, 210, 207, 209, 209, 208, 209, 210, 209, 207, 208,\n",
       "        209, 207],\n",
       "       [206, 208, 209, 208, 208, 210, 211, 210, 211, 209, 209, 210, 211,\n",
       "        211, 209, 208, 211, 215, 210, 212, 212, 211, 211, 210, 210, 211,\n",
       "        210, 210],\n",
       "       [209, 209, 210, 211, 210, 210, 212, 212, 211, 212, 210, 210, 212,\n",
       "        211, 223, 208, 162, 176, 219, 204, 206, 217, 216, 214, 212, 209,\n",
       "        211, 212],\n",
       "       [209, 210, 211, 213, 215, 213, 211, 213, 213, 211, 216, 216, 179,\n",
       "        167, 228, 202, 161, 129, 132, 155, 141, 187, 210, 159, 197, 217,\n",
       "        211, 211],\n",
       "       [210, 211, 211, 213, 214, 213, 213, 214, 215, 216, 245, 228, 181,\n",
       "        138, 184, 210, 175, 160,  76, 133, 143, 118, 180, 126, 170, 225,\n",
       "        211, 214],\n",
       "       [210, 212, 213, 213, 213, 215, 213, 221, 198, 181, 245, 225, 192,\n",
       "        156, 176, 234, 181, 168,  95, 158, 159, 121, 145, 134, 161, 228,\n",
       "        214, 216],\n",
       "       [211, 213, 214, 215, 215, 215, 218, 252, 199, 142, 192, 244, 200,\n",
       "        166, 160, 249, 199, 175, 102, 176, 164, 113, 111, 137, 131, 232,\n",
       "        213, 217],\n",
       "       [213, 214, 214, 215, 217, 211, 235, 246, 207, 174, 164, 250, 211,\n",
       "        166, 144, 248, 204, 171,  96, 179, 161,  98,  94, 152,  85, 209,\n",
       "        221, 217],\n",
       "       [214, 216, 216, 216, 214, 233, 229, 227, 222, 190, 140, 226, 220,\n",
       "        160, 123, 239, 206, 155,  77, 138, 144,  88,  82, 161,  76, 141,\n",
       "        233, 216],\n",
       "       [215, 216, 217, 216, 217, 237, 194, 217, 235, 197, 131, 193, 228,\n",
       "        158, 100, 198, 194, 137,  69, 105, 127,  78,  84, 166,  89, 111,\n",
       "        231, 218],\n",
       "       [217, 217, 219, 214, 230, 230, 180, 192, 229, 195, 129, 156, 217,\n",
       "        151,  87, 153, 177, 128,  78,  88, 114,  64, 102, 178, 106, 115,\n",
       "        233, 220],\n",
       "       [217, 218, 218, 216, 230, 223, 188, 176, 204, 173, 118, 121, 191,\n",
       "        141,  81, 110, 168, 123,  74,  88, 117,  74, 157, 195, 120, 119,\n",
       "        234, 222],\n",
       "       [213, 216, 215, 221, 232, 209, 174, 140, 183, 167, 113,  96, 178,\n",
       "        139,  71,  82, 166, 122,  64, 111, 127,  97, 196, 189, 122, 128,\n",
       "        235, 221],\n",
       "       [213, 215, 215, 215, 246, 229, 187, 129, 145, 170, 101,  83, 169,\n",
       "        144,  70,  75, 173, 120, 130, 197, 163, 118, 184, 196, 122, 138,\n",
       "        234, 220],\n",
       "       [215, 217, 216, 217, 244, 231, 192, 146, 100, 141, 131,  79, 171,\n",
       "        165,  82,  85, 170, 173, 196, 194, 173, 137, 132, 180, 112, 145,\n",
       "        236, 221],\n",
       "       [217, 218, 217, 221, 248, 235, 206, 169, 123, 109, 140, 103, 164,\n",
       "        178, 148, 189, 206, 203, 191, 177, 154, 137, 114, 117,  91, 138,\n",
       "        238, 220],\n",
       "       [218, 219, 219, 221, 249, 243, 214, 182, 164, 151, 142, 164, 185,\n",
       "        198, 218, 220, 218, 207, 189, 170, 143, 121, 113,  92,  73, 131,\n",
       "        239, 220],\n",
       "       [217, 218, 217, 222, 244, 243, 223, 200, 185, 173, 160, 160, 187,\n",
       "        205, 218, 217, 218, 209, 183, 164, 142, 114,  99,  93,  66, 159,\n",
       "        238, 222],\n",
       "       [216, 216, 217, 221, 238, 238, 231, 215, 204, 182, 170, 165, 178,\n",
       "        201, 215, 216, 211, 202, 177, 157, 136, 110,  96,  76, 113, 222,\n",
       "        230, 227],\n",
       "       [222, 223, 224, 216, 233, 239, 240, 229, 210, 187, 171, 168, 180,\n",
       "        207, 218, 218, 203, 194, 174, 153, 129, 107,  80,  97, 213, 227,\n",
       "        225, 226],\n",
       "       [175, 180, 188, 178, 214, 240, 245, 233, 210, 191, 174, 167, 179,\n",
       "        211, 220, 211, 196, 186, 168, 143, 118,  96,  78, 196, 239, 230,\n",
       "        234, 233],\n",
       "       [ 94,  96, 103,  85, 151, 244, 234, 226, 211, 195, 181, 165, 178,\n",
       "        207, 207, 192, 178, 168, 153, 129, 107,  86, 104, 177, 178, 182,\n",
       "        178, 177],\n",
       "       [103, 103, 104,  91, 114, 239, 220, 212, 211, 202, 188, 164, 173,\n",
       "        203, 198, 178, 156, 140, 127, 115,  95,  92,  99,  95,  90,  86,\n",
       "        113, 156],\n",
       "       [101, 103, 105,  99, 106, 230, 209, 204, 214, 204, 185, 164, 167,\n",
       "        201, 194, 168, 131, 109, 103,  93,  93, 104,  98,  97, 131, 187,\n",
       "        234, 233],\n",
       "       [100, 101, 100, 102, 104, 222, 207, 205, 215, 199, 183, 172, 164,\n",
       "        193, 187, 153, 107,  91,  86,  93, 102, 108, 141, 195, 241, 242,\n",
       "        226, 207],\n",
       "       [100, 101, 100, 104,  98, 222, 224, 209, 212, 193, 178, 175, 159,\n",
       "        171, 173, 135,  92,  85,  85,  92, 120, 208, 252, 255, 246, 237,\n",
       "        229, 204],\n",
       "       [101, 100, 100, 102,  93, 220, 233, 219, 210, 191, 179, 182, 155,\n",
       "        159, 164, 123,  85,  80,  84, 151, 238, 255, 255, 250, 237, 245,\n",
       "        250, 232],\n",
       "       [103, 101, 102, 103,  95, 208, 231, 227, 209, 190, 179, 182, 152,\n",
       "        150, 159, 119,  83,  63, 154, 248, 247, 248, 253, 236, 230, 240,\n",
       "        253, 255]], dtype=uint8)"
      ]
     },
     "execution_count": 27,
     "metadata": {
      "tags": []
     },
     "output_type": "execute_result"
    }
   ],
   "source": [
    "test.iloc[3,1:].values.reshape(28,28).astype('uint8')"
   ]
  },
  {
   "cell_type": "code",
   "execution_count": 0,
   "metadata": {
    "colab": {},
    "colab_type": "code",
    "id": "6E2DPJUUCTld"
   },
   "outputs": [],
   "source": [
    "x=test.iloc[:,1:].values.reshape(len(test),28,28,1)\n",
    "Xtest=np.array(x)\n",
    "Xtest=Xtest/255.0"
   ]
  },
  {
   "cell_type": "code",
   "execution_count": 29,
   "metadata": {
    "colab": {
     "base_uri": "https://localhost:8080/",
     "height": 51
    },
    "colab_type": "code",
    "id": "FSLGojkO6d4w",
    "outputId": "b0ad574a-6db0-4d43-df70-55ebad3e13c7"
   },
   "outputs": [
    {
     "name": "stdout",
     "output_type": "stream",
     "text": [
      "7172/7172 [==============================] - 1s 150us/step\n"
     ]
    },
    {
     "data": {
      "text/plain": [
       "[0.22371952159269443, 0.9631901979446411]"
      ]
     },
     "execution_count": 29,
     "metadata": {
      "tags": []
     },
     "output_type": "execute_result"
    }
   ],
   "source": [
    "model.evaluate(Xtest,Ytest)"
   ]
  },
  {
   "cell_type": "code",
   "execution_count": 0,
   "metadata": {
    "colab": {},
    "colab_type": "code",
    "id": "A7qAojuTCFDu"
   },
   "outputs": [],
   "source": []
  }
 ],
 "metadata": {
  "accelerator": "GPU",
  "colab": {
   "collapsed_sections": [],
   "name": "Signlanguage.ipynb",
   "provenance": []
  },
  "kernelspec": {
   "display_name": "Python 3",
   "language": "python",
   "name": "python3"
  },
  "language_info": {
   "codemirror_mode": {
    "name": "ipython",
    "version": 3
   },
   "file_extension": ".py",
   "mimetype": "text/x-python",
   "name": "python",
   "nbconvert_exporter": "python",
   "pygments_lexer": "ipython3",
   "version": "3.7.6"
  }
 },
 "nbformat": 4,
 "nbformat_minor": 1
}
